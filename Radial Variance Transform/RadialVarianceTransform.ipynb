{
 "cells": [
  {
   "cell_type": "markdown",
   "metadata": {},
   "source": [
    "# Implementering av RVT\n",
    "Här används en implementering av RVT gjord av SandoghdarLab som kan hittas här: https://github.com/SandoghdarLab/rvt\n"
   ]
  },
  {
   "cell_type": "code",
   "execution_count": null,
   "metadata": {},
   "outputs": [],
   "source": [
    "# import dependencies\n",
    "import imgrvt as rvt\n",
    "import numpy as np\n",
    "import matplotlib.pyplot as plt\n",
    "import os\n",
    "import deeptrack as dt\n",
    "import cv2\n",
    "import torch\n",
    "import matplotlib.pyplot as plt\n",
    "import torch\n",
    "import deeplay as dl\n",
    "from torch.utils.data import DataLoader\n",
    "from torch.optim import Adam\n",
    "import matplotlib.pyplot as plt\n",
    "import datetime\n",
    "import os\n",
    "import numpy as np\n",
    "import deeptrack as dt\n",
    "from PIL import Image\n",
    "from torchvision import transforms\n",
    "from skimage import morphology\n",
    "import pandas as pd\n",
    "import h5py"
   ]
  },
  {
   "cell_type": "markdown",
   "metadata": {},
   "source": [
    "### Läs av data från .mat filer \n",
    "Datan är given i .mat filer som här görs om till ett dataset"
   ]
  },
  {
   "cell_type": "code",
   "execution_count": null,
   "metadata": {},
   "outputs": [],
   "source": [
    "# file path for the .mat file\n",
    "file_path = os.getcwd() + '/Polystyrene_dia100nm_gap500nm_bgSubtracted.mat'\n",
    "\n",
    "f = h5py.File(file_path, 'r')\n",
    "data = f['Im_stack']\n",
    "\n",
    "# show the first image in the data\n",
    "plt.imshow(data[0], cmap='gray')\n"
   ]
  },
  {
   "cell_type": "markdown",
   "metadata": {},
   "source": [
    "### Applicera RVT på en bild\n",
    "Här appliceras RVT på en bild för att visa detektioner i en bildruta. Först används ett gaussiskt filter för att ta bort högfrekvent brus i datan. Därefter transformeras bilden med RVT och partikelpositioner tas ut av att hitta lokala maximan i bilden."
   ]
  },
  {
   "cell_type": "code",
   "execution_count": null,
   "metadata": {},
   "outputs": [],
   "source": [
    "from skimage.filters import gaussian\n",
    "# apply gaussian filter to the image\n",
    "frame_gauss = gaussian(data[0], sigma=1)\n",
    "\n",
    "# parameters for the RVT\n",
    "rmin = 1\n",
    "rmax = 10\n",
    "threshold = 0.99\n",
    "\n",
    "# apply the RVT\n",
    "th = np.quantile(rvt.rvt(frame_gauss,rmin=rmin,rmax=rmax), threshold)\n",
    "timg1 = rvt.rvt(frame_gauss,rmin=1,rmax=10, pad_mode='constant')\n",
    "\n",
    "# find the coordinates of the detections\n",
    "coordinates = morphology.h_maxima(np.squeeze(timg1), th) == 1\n",
    "coordinates = np.where(coordinates == True)\n",
    "\n",
    "#plot the detections on one frame\n",
    "plt.imshow(data[0].squeeze(), cmap='gray')\n",
    "plt.axis('off')\n",
    "plt.scatter(coordinates[1], coordinates[0], label='Predicted', s=100, facecolor='none', linewidths=1, edgecolors='r')\n",
    "plt.savefig('RVT500pred.pdf', bbox_inches='tight')"
   ]
  },
  {
   "cell_type": "markdown",
   "metadata": {},
   "source": [
    "### Detektera för alla bilder i datasetet"
   ]
  },
  {
   "cell_type": "code",
   "execution_count": null,
   "metadata": {},
   "outputs": [],
   "source": [
    "from tqdm import tqdm\n",
    "\n",
    "# initialize dataframe\n",
    "df = pd.DataFrame(columns=['centroid-0', 'centroid-1', 'frame', 'label', 'set', 'solution'])\n",
    "df1 = pd.DataFrame(columns=['centroid-0', 'centroid-1', 'frame', 'label', 'set', 'solution'])\n",
    "\n",
    "# initialize counter\n",
    "i = 0\n",
    "\n",
    "# parameters for the RVT\n",
    "rmin = 1\n",
    "rmax = 10\n",
    "threshold = 0.99\n",
    "\n",
    "for frame in tqdm(data):\n",
    "\n",
    "    # apply gaussian filter to the image\n",
    "    gauss_frame = gaussian(frame, sigma=1)\n",
    "    \n",
    "    # apply the RVT\n",
    "    th = np.quantile(rvt.rvt(gauss_frame,rmin=rmin,rmax=rmax), threshold)\n",
    "    timg1 = rvt.rvt(gauss_frame,rmin=1,rmax=10, pad_mode='constant')\n",
    "    \n",
    "    # find the coordinates of the detections\n",
    "    coordinates = morphology.h_maxima(np.squeeze(timg1), th) == 1\n",
    "    coordinates = np.where(coordinates == True)\n",
    "\n",
    "    # add the coordinates to the dataframe\n",
    "    df1 = pd.DataFrame(columns=['centroid-0', 'centroid-1', 'frame', 'label', 'set', 'solution'])\n",
    "    df1['centroid-0'] = coordinates[0]/frame.shape[0]\n",
    "    df1['centroid-1'] = coordinates[1]/frame.shape[1]\n",
    "    df1['frame'] = int(i)\n",
    "    df1['label'] = int(0)\n",
    "    df1['set'] = int(0)\n",
    "    df1['solution'] = int(0)\n",
    "    df = pd.concat([df, df1], ignore_index=True)\n",
    "    i += 1\n",
    "    \n",
    "    # reset the df1 dataframe for next iteration\n",
    "    df1.loc[0:0]\n",
    "\n",
    "df"
   ]
  },
  {
   "cell_type": "markdown",
   "metadata": {},
   "source": [
    "### Spara datan till en csv fil för att användas med MAGIK"
   ]
  },
  {
   "cell_type": "code",
   "execution_count": null,
   "metadata": {},
   "outputs": [],
   "source": [
    "file_name = 'RVTpredictions'\n",
    "\n",
    "df.to_csv(file_name + '.csv', index=False)"
   ]
  }
 ],
 "metadata": {
  "kernelspec": {
   "display_name": "Python 3",
   "language": "python",
   "name": "python3"
  },
  "language_info": {
   "codemirror_mode": {
    "name": "ipython",
    "version": 3
   },
   "file_extension": ".py",
   "mimetype": "text/x-python",
   "name": "python",
   "nbconvert_exporter": "python",
   "pygments_lexer": "ipython3",
   "version": "3.10.11"
  }
 },
 "nbformat": 4,
 "nbformat_minor": 2
}
